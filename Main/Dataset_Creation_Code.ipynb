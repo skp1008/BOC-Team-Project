{
 "cells": [
  {
   "cell_type": "markdown",
   "id": "be8aef09-0174-4d55-bb46-ec547a10c65d",
   "metadata": {},
   "source": [
    "# Bank of Canada - Governor's Challenge - Inflation Forecasting Project @ UBC"
   ]
  },
  {
   "cell_type": "markdown",
   "id": "6971dab2-6ef2-4701-b40e-f7dcf9ed82f0",
   "metadata": {},
   "source": [
    "## ******************************************** DATA CLEANING *********************************************"
   ]
  },
  {
   "cell_type": "markdown",
   "id": "7ddcc7e5-017b-46ba-bba9-0cec19a98502",
   "metadata": {},
   "source": [
    "### 1) Loading in Packages"
   ]
  },
  {
   "cell_type": "code",
   "execution_count": 19,
   "id": "b2b0c1d3-8c70-4e46-8a0f-93623d3fe72c",
   "metadata": {},
   "outputs": [
    {
     "name": "stderr",
     "output_type": "stream",
     "text": [
      "Warning message:\n",
      "“package ‘stats’ is a base package, and should not be updated”\n",
      "Updating HTML index of packages in '.Library'\n",
      "\n",
      "Making 'packages.html' ...\n",
      " done\n",
      "\n"
     ]
    }
   ],
   "source": [
    "install.packages(c(\"dplyr\",\"tidyr\",\"readr\",\"ggplot2\",\"stats\",\"tseries\",\"lmtest\",\"openxlsx\",\"readxl\"))"
   ]
  },
  {
   "cell_type": "code",
   "execution_count": 21,
   "id": "a67e9db7-53f7-48ed-bfc5-daa2b788785f",
   "metadata": {},
   "outputs": [],
   "source": [
    "library(dplyr)\n",
    "library(tidyr)\n",
    "library(readr)\n",
    "library(ggplot2)\n",
    "library(stats)\n",
    "library(tseries)\n",
    "library(lmtest)\n",
    "library(openxlsx)\n",
    "library(readxl)"
   ]
  },
  {
   "cell_type": "markdown",
   "id": "fc24f7aa-abb8-4b1c-b80c-7ddb6f372f15",
   "metadata": {},
   "source": [
    "### 2) Krishna's Data"
   ]
  },
  {
   "cell_type": "markdown",
   "id": "5ad840bd-31c8-4c21-826e-7c85283a587f",
   "metadata": {},
   "source": [
    "**Pre-Cleaned Dataset - Original data files + data cleaning code (STATA) is in Github**"
   ]
  },
  {
   "cell_type": "code",
   "execution_count": 22,
   "id": "97e7f93f-0cdb-4877-96e3-e629c48c02c0",
   "metadata": {},
   "outputs": [
    {
     "data": {
      "text/html": [
       "<table class=\"dataframe\">\n",
       "<caption>A tibble: 6 × 24</caption>\n",
       "<thead>\n",
       "\t<tr><th scope=col>Date</th><th scope=col>Time</th><th scope=col>GDP</th><th scope=col>UNRATE</th><th scope=col>Labour_Prod</th><th scope=col>CEER</th><th scope=col>AWE</th><th scope=col>GOC5Y</th><th scope=col>BOS</th><th scope=col>IE1</th><th scope=col>⋯</th><th scope=col>CPI</th><th scope=col>Output_Gap</th><th scope=col>FAM_IO</th><th scope=col>GSCPI</th><th scope=col>Overnight_Rate</th><th scope=col>Infl_Exp_1y</th><th scope=col>Infl_Exp_2y</th><th scope=col>Job_Vacancy_Rate</th><th scope=col>Unit_Labour_Cost</th><th scope=col>USA_Interest_Rate</th></tr>\n",
       "\t<tr><th scope=col>&lt;dttm&gt;</th><th scope=col>&lt;dbl&gt;</th><th scope=col>&lt;dbl&gt;</th><th scope=col>&lt;dbl&gt;</th><th scope=col>&lt;dbl&gt;</th><th scope=col>&lt;dbl&gt;</th><th scope=col>&lt;dbl&gt;</th><th scope=col>&lt;dbl&gt;</th><th scope=col>&lt;dbl&gt;</th><th scope=col>&lt;dbl&gt;</th><th scope=col>⋯</th><th scope=col>&lt;dbl&gt;</th><th scope=col>&lt;dbl&gt;</th><th scope=col>&lt;dbl&gt;</th><th scope=col>&lt;dbl&gt;</th><th scope=col>&lt;dbl&gt;</th><th scope=col>&lt;dbl&gt;</th><th scope=col>&lt;dbl&gt;</th><th scope=col>&lt;dbl&gt;</th><th scope=col>&lt;dbl&gt;</th><th scope=col>&lt;dbl&gt;</th></tr>\n",
       "</thead>\n",
       "<tbody>\n",
       "\t<tr><td>2000-01-01</td><td>1</td><td>1514676</td><td>7.300000</td><td>84.076</td><td>102.4333</td><td>      NA</td><td>      NA</td><td>NA</td><td>NA</td><td>⋯</td><td>94.36667</td><td>2.2</td><td>78.2</td><td>-0.4191127</td><td>      NA</td><td>NA</td><td>NA</td><td>NA</td><td>71.995</td><td>5.676667</td></tr>\n",
       "\t<tr><td>2000-04-01</td><td>2</td><td>1532503</td><td>6.700000</td><td>84.845</td><td>101.5333</td><td>      NA</td><td>      NA</td><td>NA</td><td>NA</td><td>⋯</td><td>94.80000</td><td>2.4</td><td>79.3</td><td> 0.1406780</td><td>      NA</td><td>NA</td><td>NA</td><td>NA</td><td>73.192</td><td>6.273333</td></tr>\n",
       "\t<tr><td>2000-07-01</td><td>3</td><td>1548212</td><td>6.833333</td><td>85.627</td><td>101.9600</td><td>      NA</td><td>      NA</td><td>NA</td><td>NA</td><td>⋯</td><td>95.66667</td><td>2.5</td><td>80.1</td><td> 0.0702347</td><td>      NA</td><td>NA</td><td>NA</td><td>NA</td><td>73.379</td><td>6.520000</td></tr>\n",
       "\t<tr><td>2000-10-01</td><td>4</td><td>1551274</td><td>6.433333</td><td>85.213</td><td>100.1900</td><td>      NA</td><td>      NA</td><td>NA</td><td>NA</td><td>⋯</td><td>96.70000</td><td>2.0</td><td>80.6</td><td>-0.6925838</td><td>      NA</td><td>NA</td><td>NA</td><td>NA</td><td>73.935</td><td>6.473333</td></tr>\n",
       "\t<tr><td>2001-01-01</td><td>5</td><td>1560006</td><td>7.533333</td><td>85.495</td><td>100.2567</td><td>656.5100</td><td>5.125781</td><td>NA</td><td>NA</td><td>⋯</td><td>96.93333</td><td>1.7</td><td>80.8</td><td>-0.7325969</td><td>5.456990</td><td>NA</td><td>NA</td><td>NA</td><td>74.300</td><td>5.593333</td></tr>\n",
       "\t<tr><td>2001-04-01</td><td>6</td><td>1564912</td><td>7.066667</td><td>86.122</td><td>100.4533</td><td>653.9833</td><td>5.335238</td><td>NA</td><td>25</td><td>⋯</td><td>98.20000</td><td>1.3</td><td>80.6</td><td>-0.8786915</td><td>4.632617</td><td>NA</td><td>NA</td><td>NA</td><td>74.328</td><td>4.326667</td></tr>\n",
       "</tbody>\n",
       "</table>\n"
      ],
      "text/latex": [
       "A tibble: 6 × 24\n",
       "\\begin{tabular}{lllllllllllllllllllll}\n",
       " Date & Time & GDP & UNRATE & Labour\\_Prod & CEER & AWE & GOC5Y & BOS & IE1 & ⋯ & CPI & Output\\_Gap & FAM\\_IO & GSCPI & Overnight\\_Rate & Infl\\_Exp\\_1y & Infl\\_Exp\\_2y & Job\\_Vacancy\\_Rate & Unit\\_Labour\\_Cost & USA\\_Interest\\_Rate\\\\\n",
       " <dttm> & <dbl> & <dbl> & <dbl> & <dbl> & <dbl> & <dbl> & <dbl> & <dbl> & <dbl> & ⋯ & <dbl> & <dbl> & <dbl> & <dbl> & <dbl> & <dbl> & <dbl> & <dbl> & <dbl> & <dbl>\\\\\n",
       "\\hline\n",
       "\t 2000-01-01 & 1 & 1514676 & 7.300000 & 84.076 & 102.4333 &       NA &       NA & NA & NA & ⋯ & 94.36667 & 2.2 & 78.2 & -0.4191127 &       NA & NA & NA & NA & 71.995 & 5.676667\\\\\n",
       "\t 2000-04-01 & 2 & 1532503 & 6.700000 & 84.845 & 101.5333 &       NA &       NA & NA & NA & ⋯ & 94.80000 & 2.4 & 79.3 &  0.1406780 &       NA & NA & NA & NA & 73.192 & 6.273333\\\\\n",
       "\t 2000-07-01 & 3 & 1548212 & 6.833333 & 85.627 & 101.9600 &       NA &       NA & NA & NA & ⋯ & 95.66667 & 2.5 & 80.1 &  0.0702347 &       NA & NA & NA & NA & 73.379 & 6.520000\\\\\n",
       "\t 2000-10-01 & 4 & 1551274 & 6.433333 & 85.213 & 100.1900 &       NA &       NA & NA & NA & ⋯ & 96.70000 & 2.0 & 80.6 & -0.6925838 &       NA & NA & NA & NA & 73.935 & 6.473333\\\\\n",
       "\t 2001-01-01 & 5 & 1560006 & 7.533333 & 85.495 & 100.2567 & 656.5100 & 5.125781 & NA & NA & ⋯ & 96.93333 & 1.7 & 80.8 & -0.7325969 & 5.456990 & NA & NA & NA & 74.300 & 5.593333\\\\\n",
       "\t 2001-04-01 & 6 & 1564912 & 7.066667 & 86.122 & 100.4533 & 653.9833 & 5.335238 & NA & 25 & ⋯ & 98.20000 & 1.3 & 80.6 & -0.8786915 & 4.632617 & NA & NA & NA & 74.328 & 4.326667\\\\\n",
       "\\end{tabular}\n"
      ],
      "text/markdown": [
       "\n",
       "A tibble: 6 × 24\n",
       "\n",
       "| Date &lt;dttm&gt; | Time &lt;dbl&gt; | GDP &lt;dbl&gt; | UNRATE &lt;dbl&gt; | Labour_Prod &lt;dbl&gt; | CEER &lt;dbl&gt; | AWE &lt;dbl&gt; | GOC5Y &lt;dbl&gt; | BOS &lt;dbl&gt; | IE1 &lt;dbl&gt; | ⋯ ⋯ | CPI &lt;dbl&gt; | Output_Gap &lt;dbl&gt; | FAM_IO &lt;dbl&gt; | GSCPI &lt;dbl&gt; | Overnight_Rate &lt;dbl&gt; | Infl_Exp_1y &lt;dbl&gt; | Infl_Exp_2y &lt;dbl&gt; | Job_Vacancy_Rate &lt;dbl&gt; | Unit_Labour_Cost &lt;dbl&gt; | USA_Interest_Rate &lt;dbl&gt; |\n",
       "|---|---|---|---|---|---|---|---|---|---|---|---|---|---|---|---|---|---|---|---|---|\n",
       "| 2000-01-01 | 1 | 1514676 | 7.300000 | 84.076 | 102.4333 |       NA |       NA | NA | NA | ⋯ | 94.36667 | 2.2 | 78.2 | -0.4191127 |       NA | NA | NA | NA | 71.995 | 5.676667 |\n",
       "| 2000-04-01 | 2 | 1532503 | 6.700000 | 84.845 | 101.5333 |       NA |       NA | NA | NA | ⋯ | 94.80000 | 2.4 | 79.3 |  0.1406780 |       NA | NA | NA | NA | 73.192 | 6.273333 |\n",
       "| 2000-07-01 | 3 | 1548212 | 6.833333 | 85.627 | 101.9600 |       NA |       NA | NA | NA | ⋯ | 95.66667 | 2.5 | 80.1 |  0.0702347 |       NA | NA | NA | NA | 73.379 | 6.520000 |\n",
       "| 2000-10-01 | 4 | 1551274 | 6.433333 | 85.213 | 100.1900 |       NA |       NA | NA | NA | ⋯ | 96.70000 | 2.0 | 80.6 | -0.6925838 |       NA | NA | NA | NA | 73.935 | 6.473333 |\n",
       "| 2001-01-01 | 5 | 1560006 | 7.533333 | 85.495 | 100.2567 | 656.5100 | 5.125781 | NA | NA | ⋯ | 96.93333 | 1.7 | 80.8 | -0.7325969 | 5.456990 | NA | NA | NA | 74.300 | 5.593333 |\n",
       "| 2001-04-01 | 6 | 1564912 | 7.066667 | 86.122 | 100.4533 | 653.9833 | 5.335238 | NA | 25 | ⋯ | 98.20000 | 1.3 | 80.6 | -0.8786915 | 4.632617 | NA | NA | NA | 74.328 | 4.326667 |\n",
       "\n"
      ],
      "text/plain": [
       "  Date       Time GDP     UNRATE   Labour_Prod CEER     AWE      GOC5Y    BOS\n",
       "1 2000-01-01 1    1514676 7.300000 84.076      102.4333       NA       NA NA \n",
       "2 2000-04-01 2    1532503 6.700000 84.845      101.5333       NA       NA NA \n",
       "3 2000-07-01 3    1548212 6.833333 85.627      101.9600       NA       NA NA \n",
       "4 2000-10-01 4    1551274 6.433333 85.213      100.1900       NA       NA NA \n",
       "5 2001-01-01 5    1560006 7.533333 85.495      100.2567 656.5100 5.125781 NA \n",
       "6 2001-04-01 6    1564912 7.066667 86.122      100.4533 653.9833 5.335238 NA \n",
       "  IE1 ⋯ CPI      Output_Gap FAM_IO GSCPI      Overnight_Rate Infl_Exp_1y\n",
       "1 NA  ⋯ 94.36667 2.2        78.2   -0.4191127       NA       NA         \n",
       "2 NA  ⋯ 94.80000 2.4        79.3    0.1406780       NA       NA         \n",
       "3 NA  ⋯ 95.66667 2.5        80.1    0.0702347       NA       NA         \n",
       "4 NA  ⋯ 96.70000 2.0        80.6   -0.6925838       NA       NA         \n",
       "5 NA  ⋯ 96.93333 1.7        80.8   -0.7325969 5.456990       NA         \n",
       "6 25  ⋯ 98.20000 1.3        80.6   -0.8786915 4.632617       NA         \n",
       "  Infl_Exp_2y Job_Vacancy_Rate Unit_Labour_Cost USA_Interest_Rate\n",
       "1 NA          NA               71.995           5.676667         \n",
       "2 NA          NA               73.192           6.273333         \n",
       "3 NA          NA               73.379           6.520000         \n",
       "4 NA          NA               73.935           6.473333         \n",
       "5 NA          NA               74.300           5.593333         \n",
       "6 NA          NA               74.328           4.326667         "
      ]
     },
     "metadata": {},
     "output_type": "display_data"
    }
   ],
   "source": [
    "krishna_data <- read_excel(\"Krishna_Data.xlsx\")\n",
    "\n",
    "head(krishna_data)"
   ]
  },
  {
   "attachments": {},
   "cell_type": "markdown",
   "id": "059c8a37-4d6e-460a-b9a7-14b841115da5",
   "metadata": {},
   "source": [
    "**We will get:**\n",
    "\n",
    "1) **GDP**: Final consumption expenditure (Seasonally adjusted at annual rates - Chained 2017 dollars) - https://www150.statcan.gc.ca/t1/tbl1/en/tv.action?pid=3610010401\n",
    "\n",
    "2) **GSCPI**: Global Supply Chain Pressure Index - Federal Reserve Bank of NY - https://www.newyorkfed.org/research/gscpi.html.\n",
    "\n",
    "3) **Labour Productivity**: Total Economy (Index: 2017=100) - Seasonally Adjusted - https://www150.statcan.gc.ca/t1/tbl1/en/tv.action?pid=3610020701\n",
    "\n",
    "4) **CEER**: Canadian Effective Exchange Rate Index - Bank of Canada - https://www.bankofcanada.ca/rates/exchange/canadian-effective-exchange-rates/\n",
    "\n",
    "5) **USA Fed Rate** - Policy Interest Rate set by the Federal Reserve Bank of USA - FRED Database - https://fred.stlouisfed.org/series/FEDFUNDS\n",
    "\n",
    "6) **Overnight Rate** - Bank of Canada Target of the Overnight Rate (2001Q1) - https://www.bankofcanada.ca/valet/observations/INDV39079/csv + data scraped from BOC\n",
    "\n",
    "7) **Output Gap** - BOC Economic Slack Measure (Monetary Policy Report) - https://www.bankofcanada.ca/rates/indicators/capacity-and-inflation-pressures/product-market-definitions/\n",
    "\n",
    "8) **Time** - Index of Date in Quarters starting from 2000-Q1"
   ]
  },
  {
   "cell_type": "code",
   "execution_count": 23,
   "id": "4a336dae-bb5a-4354-83d8-0f16aff2be4b",
   "metadata": {},
   "outputs": [
    {
     "data": {
      "text/html": [
       "<table class=\"dataframe\">\n",
       "<caption>A tibble: 6 × 9</caption>\n",
       "<thead>\n",
       "\t<tr><th scope=col>Date</th><th scope=col>Time</th><th scope=col>GDP</th><th scope=col>GSCPI</th><th scope=col>Labour_Prod</th><th scope=col>CEER</th><th scope=col>USA_Interest_Rate</th><th scope=col>Overnight_Rate</th><th scope=col>Output_Gap</th></tr>\n",
       "\t<tr><th scope=col>&lt;dttm&gt;</th><th scope=col>&lt;dbl&gt;</th><th scope=col>&lt;dbl&gt;</th><th scope=col>&lt;dbl&gt;</th><th scope=col>&lt;dbl&gt;</th><th scope=col>&lt;dbl&gt;</th><th scope=col>&lt;dbl&gt;</th><th scope=col>&lt;dbl&gt;</th><th scope=col>&lt;dbl&gt;</th></tr>\n",
       "</thead>\n",
       "<tbody>\n",
       "\t<tr><td>2000-01-01</td><td>1</td><td>1514676</td><td>-0.4191127</td><td>84.076</td><td>102.4333</td><td>5.676667</td><td>      NA</td><td>2.2</td></tr>\n",
       "\t<tr><td>2000-04-01</td><td>2</td><td>1532503</td><td> 0.1406780</td><td>84.845</td><td>101.5333</td><td>6.273333</td><td>      NA</td><td>2.4</td></tr>\n",
       "\t<tr><td>2000-07-01</td><td>3</td><td>1548212</td><td> 0.0702347</td><td>85.627</td><td>101.9600</td><td>6.520000</td><td>      NA</td><td>2.5</td></tr>\n",
       "\t<tr><td>2000-10-01</td><td>4</td><td>1551274</td><td>-0.6925838</td><td>85.213</td><td>100.1900</td><td>6.473333</td><td>      NA</td><td>2.0</td></tr>\n",
       "\t<tr><td>2001-01-01</td><td>5</td><td>1560006</td><td>-0.7325969</td><td>85.495</td><td>100.2567</td><td>5.593333</td><td>5.456990</td><td>1.7</td></tr>\n",
       "\t<tr><td>2001-04-01</td><td>6</td><td>1564912</td><td>-0.8786915</td><td>86.122</td><td>100.4533</td><td>4.326667</td><td>4.632617</td><td>1.3</td></tr>\n",
       "</tbody>\n",
       "</table>\n"
      ],
      "text/latex": [
       "A tibble: 6 × 9\n",
       "\\begin{tabular}{lllllllll}\n",
       " Date & Time & GDP & GSCPI & Labour\\_Prod & CEER & USA\\_Interest\\_Rate & Overnight\\_Rate & Output\\_Gap\\\\\n",
       " <dttm> & <dbl> & <dbl> & <dbl> & <dbl> & <dbl> & <dbl> & <dbl> & <dbl>\\\\\n",
       "\\hline\n",
       "\t 2000-01-01 & 1 & 1514676 & -0.4191127 & 84.076 & 102.4333 & 5.676667 &       NA & 2.2\\\\\n",
       "\t 2000-04-01 & 2 & 1532503 &  0.1406780 & 84.845 & 101.5333 & 6.273333 &       NA & 2.4\\\\\n",
       "\t 2000-07-01 & 3 & 1548212 &  0.0702347 & 85.627 & 101.9600 & 6.520000 &       NA & 2.5\\\\\n",
       "\t 2000-10-01 & 4 & 1551274 & -0.6925838 & 85.213 & 100.1900 & 6.473333 &       NA & 2.0\\\\\n",
       "\t 2001-01-01 & 5 & 1560006 & -0.7325969 & 85.495 & 100.2567 & 5.593333 & 5.456990 & 1.7\\\\\n",
       "\t 2001-04-01 & 6 & 1564912 & -0.8786915 & 86.122 & 100.4533 & 4.326667 & 4.632617 & 1.3\\\\\n",
       "\\end{tabular}\n"
      ],
      "text/markdown": [
       "\n",
       "A tibble: 6 × 9\n",
       "\n",
       "| Date &lt;dttm&gt; | Time &lt;dbl&gt; | GDP &lt;dbl&gt; | GSCPI &lt;dbl&gt; | Labour_Prod &lt;dbl&gt; | CEER &lt;dbl&gt; | USA_Interest_Rate &lt;dbl&gt; | Overnight_Rate &lt;dbl&gt; | Output_Gap &lt;dbl&gt; |\n",
       "|---|---|---|---|---|---|---|---|---|\n",
       "| 2000-01-01 | 1 | 1514676 | -0.4191127 | 84.076 | 102.4333 | 5.676667 |       NA | 2.2 |\n",
       "| 2000-04-01 | 2 | 1532503 |  0.1406780 | 84.845 | 101.5333 | 6.273333 |       NA | 2.4 |\n",
       "| 2000-07-01 | 3 | 1548212 |  0.0702347 | 85.627 | 101.9600 | 6.520000 |       NA | 2.5 |\n",
       "| 2000-10-01 | 4 | 1551274 | -0.6925838 | 85.213 | 100.1900 | 6.473333 |       NA | 2.0 |\n",
       "| 2001-01-01 | 5 | 1560006 | -0.7325969 | 85.495 | 100.2567 | 5.593333 | 5.456990 | 1.7 |\n",
       "| 2001-04-01 | 6 | 1564912 | -0.8786915 | 86.122 | 100.4533 | 4.326667 | 4.632617 | 1.3 |\n",
       "\n"
      ],
      "text/plain": [
       "  Date       Time GDP     GSCPI      Labour_Prod CEER     USA_Interest_Rate\n",
       "1 2000-01-01 1    1514676 -0.4191127 84.076      102.4333 5.676667         \n",
       "2 2000-04-01 2    1532503  0.1406780 84.845      101.5333 6.273333         \n",
       "3 2000-07-01 3    1548212  0.0702347 85.627      101.9600 6.520000         \n",
       "4 2000-10-01 4    1551274 -0.6925838 85.213      100.1900 6.473333         \n",
       "5 2001-01-01 5    1560006 -0.7325969 85.495      100.2567 5.593333         \n",
       "6 2001-04-01 6    1564912 -0.8786915 86.122      100.4533 4.326667         \n",
       "  Overnight_Rate Output_Gap\n",
       "1       NA       2.2       \n",
       "2       NA       2.4       \n",
       "3       NA       2.5       \n",
       "4       NA       2.0       \n",
       "5 5.456990       1.7       \n",
       "6 4.632617       1.3       "
      ]
     },
     "metadata": {},
     "output_type": "display_data"
    }
   ],
   "source": [
    "krishna_data_cleaned <- krishna_data %>%\n",
    "  select(Date, Time, GDP, GSCPI, Labour_Prod, CEER, USA_Interest_Rate, Overnight_Rate, Output_Gap)\n",
    "\n",
    "head(krishna_data_cleaned)\n"
   ]
  },
  {
   "cell_type": "markdown",
   "id": "fd39f702-3798-4c1f-b843-260756fcd78d",
   "metadata": {},
   "source": [
    "### 3) Seans's Data"
   ]
  },
  {
   "cell_type": "markdown",
   "id": "0044298d-dbfc-40b4-805f-e3311d71574f",
   "metadata": {},
   "source": [
    "**Pre-Cleaned Dataset** - I need Original data files + data cleaning code + sources for Transparency"
   ]
  },
  {
   "cell_type": "code",
   "execution_count": 24,
   "id": "76c6157e-9d39-4062-a8f8-d372249a3c8d",
   "metadata": {},
   "outputs": [
    {
     "data": {
      "text/html": [
       "<table class=\"dataframe\">\n",
       "<caption>A tibble: 6 × 11</caption>\n",
       "<thead>\n",
       "\t<tr><th scope=col>Date</th><th scope=col>GDP: Final consumption expenditure (Seasonally adjusted at annual rates) (Chained 2017 dollars)</th><th scope=col>Canadian Dollars to U.S. Dollar Spot Exchange Rate, Canadian Dollars to One U.S. Dollar, Quarterly, Not Seasonally Adjusted, AVERAGED</th><th scope=col>Unemployment Rate (SA)</th><th scope=col>INDINF_INFEXP_BOND_Q</th><th scope=col>BOCI</th><th scope=col>CPI-Core</th><th scope=col>CPI-Median</th><th scope=col>CPI-Trim</th><th scope=col>CPI</th><th scope=col>output</th></tr>\n",
       "\t<tr><th scope=col>&lt;chr&gt;</th><th scope=col>&lt;dbl&gt;</th><th scope=col>&lt;dbl&gt;</th><th scope=col>&lt;dbl&gt;</th><th scope=col>&lt;dbl&gt;</th><th scope=col>&lt;dbl&gt;</th><th scope=col>&lt;dbl&gt;</th><th scope=col>&lt;dbl&gt;</th><th scope=col>&lt;dbl&gt;</th><th scope=col>&lt;dbl&gt;</th><th scope=col>&lt;dbl&gt;</th></tr>\n",
       "</thead>\n",
       "<tbody>\n",
       "\t<tr><td>Q1 1990</td><td>892824</td><td>1.1823</td><td> 7.3</td><td>NA</td><td>276.8267</td><td>3.966667</td><td>4.500000</td><td>4.733333</td><td>NA</td><td> 2.0</td></tr>\n",
       "\t<tr><td>Q2 1990</td><td>882793</td><td>1.1707</td><td> 7.6</td><td>NA</td><td>266.5933</td><td>3.966667</td><td>4.033333</td><td>4.300000</td><td>NA</td><td> 1.3</td></tr>\n",
       "\t<tr><td>Q3 1990</td><td>888741</td><td>1.1530</td><td> 8.5</td><td>NA</td><td>283.4333</td><td>3.866667</td><td>3.800000</td><td>4.066667</td><td>NA</td><td> 0.4</td></tr>\n",
       "\t<tr><td>Q4 1990</td><td>889602</td><td>1.1612</td><td> 9.5</td><td>NA</td><td>286.9733</td><td>3.966667</td><td>3.900000</td><td>3.933333</td><td>NA</td><td>-0.8</td></tr>\n",
       "\t<tr><td>Q1 1991</td><td>875730</td><td>1.1561</td><td>10.5</td><td>NA</td><td>260.4267</td><td>4.100000</td><td>3.966667</td><td>3.933333</td><td>NA</td><td>-2.3</td></tr>\n",
       "\t<tr><td>Q2 1991</td><td>890979</td><td>1.1493</td><td>10.5</td><td>NA</td><td>256.7400</td><td>3.733333</td><td>3.733333</td><td>3.433333</td><td>NA</td><td>-2.3</td></tr>\n",
       "</tbody>\n",
       "</table>\n"
      ],
      "text/latex": [
       "A tibble: 6 × 11\n",
       "\\begin{tabular}{lllllllllll}\n",
       " Date & GDP: Final consumption expenditure (Seasonally adjusted at annual rates) (Chained 2017 dollars) & Canadian Dollars to U.S. Dollar Spot Exchange Rate, Canadian Dollars to One U.S. Dollar, Quarterly, Not Seasonally Adjusted, AVERAGED & Unemployment Rate (SA) & INDINF\\_INFEXP\\_BOND\\_Q & BOCI & CPI-Core & CPI-Median & CPI-Trim & CPI & output\\\\\n",
       " <chr> & <dbl> & <dbl> & <dbl> & <dbl> & <dbl> & <dbl> & <dbl> & <dbl> & <dbl> & <dbl>\\\\\n",
       "\\hline\n",
       "\t Q1 1990 & 892824 & 1.1823 &  7.3 & NA & 276.8267 & 3.966667 & 4.500000 & 4.733333 & NA &  2.0\\\\\n",
       "\t Q2 1990 & 882793 & 1.1707 &  7.6 & NA & 266.5933 & 3.966667 & 4.033333 & 4.300000 & NA &  1.3\\\\\n",
       "\t Q3 1990 & 888741 & 1.1530 &  8.5 & NA & 283.4333 & 3.866667 & 3.800000 & 4.066667 & NA &  0.4\\\\\n",
       "\t Q4 1990 & 889602 & 1.1612 &  9.5 & NA & 286.9733 & 3.966667 & 3.900000 & 3.933333 & NA & -0.8\\\\\n",
       "\t Q1 1991 & 875730 & 1.1561 & 10.5 & NA & 260.4267 & 4.100000 & 3.966667 & 3.933333 & NA & -2.3\\\\\n",
       "\t Q2 1991 & 890979 & 1.1493 & 10.5 & NA & 256.7400 & 3.733333 & 3.733333 & 3.433333 & NA & -2.3\\\\\n",
       "\\end{tabular}\n"
      ],
      "text/markdown": [
       "\n",
       "A tibble: 6 × 11\n",
       "\n",
       "| Date &lt;chr&gt; | GDP: Final consumption expenditure (Seasonally adjusted at annual rates) (Chained 2017 dollars) &lt;dbl&gt; | Canadian Dollars to U.S. Dollar Spot Exchange Rate, Canadian Dollars to One U.S. Dollar, Quarterly, Not Seasonally Adjusted, AVERAGED &lt;dbl&gt; | Unemployment Rate (SA) &lt;dbl&gt; | INDINF_INFEXP_BOND_Q &lt;dbl&gt; | BOCI &lt;dbl&gt; | CPI-Core &lt;dbl&gt; | CPI-Median &lt;dbl&gt; | CPI-Trim &lt;dbl&gt; | CPI &lt;dbl&gt; | output &lt;dbl&gt; |\n",
       "|---|---|---|---|---|---|---|---|---|---|---|\n",
       "| Q1 1990 | 892824 | 1.1823 |  7.3 | NA | 276.8267 | 3.966667 | 4.500000 | 4.733333 | NA |  2.0 |\n",
       "| Q2 1990 | 882793 | 1.1707 |  7.6 | NA | 266.5933 | 3.966667 | 4.033333 | 4.300000 | NA |  1.3 |\n",
       "| Q3 1990 | 888741 | 1.1530 |  8.5 | NA | 283.4333 | 3.866667 | 3.800000 | 4.066667 | NA |  0.4 |\n",
       "| Q4 1990 | 889602 | 1.1612 |  9.5 | NA | 286.9733 | 3.966667 | 3.900000 | 3.933333 | NA | -0.8 |\n",
       "| Q1 1991 | 875730 | 1.1561 | 10.5 | NA | 260.4267 | 4.100000 | 3.966667 | 3.933333 | NA | -2.3 |\n",
       "| Q2 1991 | 890979 | 1.1493 | 10.5 | NA | 256.7400 | 3.733333 | 3.733333 | 3.433333 | NA | -2.3 |\n",
       "\n"
      ],
      "text/plain": [
       "  Date   \n",
       "1 Q1 1990\n",
       "2 Q2 1990\n",
       "3 Q3 1990\n",
       "4 Q4 1990\n",
       "5 Q1 1991\n",
       "6 Q2 1991\n",
       "  GDP: Final consumption expenditure (Seasonally adjusted at annual rates) (Chained 2017 dollars)\n",
       "1 892824                                                                                         \n",
       "2 882793                                                                                         \n",
       "3 888741                                                                                         \n",
       "4 889602                                                                                         \n",
       "5 875730                                                                                         \n",
       "6 890979                                                                                         \n",
       "  Canadian Dollars to U.S. Dollar Spot Exchange Rate, Canadian Dollars to One U.S. Dollar, Quarterly, Not Seasonally Adjusted, AVERAGED\n",
       "1 1.1823                                                                                                                               \n",
       "2 1.1707                                                                                                                               \n",
       "3 1.1530                                                                                                                               \n",
       "4 1.1612                                                                                                                               \n",
       "5 1.1561                                                                                                                               \n",
       "6 1.1493                                                                                                                               \n",
       "  Unemployment Rate (SA) INDINF_INFEXP_BOND_Q BOCI     CPI-Core CPI-Median\n",
       "1  7.3                   NA                   276.8267 3.966667 4.500000  \n",
       "2  7.6                   NA                   266.5933 3.966667 4.033333  \n",
       "3  8.5                   NA                   283.4333 3.866667 3.800000  \n",
       "4  9.5                   NA                   286.9733 3.966667 3.900000  \n",
       "5 10.5                   NA                   260.4267 4.100000 3.966667  \n",
       "6 10.5                   NA                   256.7400 3.733333 3.733333  \n",
       "  CPI-Trim CPI output\n",
       "1 4.733333 NA   2.0  \n",
       "2 4.300000 NA   1.3  \n",
       "3 4.066667 NA   0.4  \n",
       "4 3.933333 NA  -0.8  \n",
       "5 3.933333 NA  -2.3  \n",
       "6 3.433333 NA  -2.3  "
      ]
     },
     "metadata": {},
     "output_type": "display_data"
    }
   ],
   "source": [
    "sean_data <- read_excel(\"Sean_Data.xlsx\")\n",
    "\n",
    "sean_data <- sean_data |>\n",
    "  rename(`CPI-Core`   = \"Measure of core inflation based on a factor model, CPI-common (year-over-year percent change)\",\n",
    "         `CPI-Median` = \"Measure of core inflation based on a weighted median approach, CPI-median (year-over-year percent change) 2 3 6 7 8\",\n",
    "         `CPI-Trim`   = \"Measure of core inflation based on a trimmed mean approach, CPI-trim (year-over-year percent change) 2 3 6 8 9\")\n",
    "\n",
    "head(sean_data)"
   ]
  },
  {
   "cell_type": "markdown",
   "id": "8b3cc493-5f25-47e3-93a9-04adfcf0c295",
   "metadata": {},
   "source": [
    "**We will get:**\n",
    "\n",
    "1) **CPI-Core**: Measure of core inflation based on a factor model, CPI-common (year-over-year percent change) - Source?\n",
    "\n",
    "2) **CPI-Median**: Measure of core inflation based on a weighted median approach, CPI-median (year-over-year percent change) - Source?\n",
    "\n",
    "3) **CPI-Trim**: Measure of core inflation based on a trimmed mean approach, CPI-trim (year-over-year percent change) - Source?\n"
   ]
  },
  {
   "cell_type": "code",
   "execution_count": 25,
   "id": "a8a8af49-442a-43a9-8e33-81671a588261",
   "metadata": {},
   "outputs": [
    {
     "data": {
      "text/html": [
       "<table class=\"dataframe\">\n",
       "<caption>A tibble: 6 × 4</caption>\n",
       "<thead>\n",
       "\t<tr><th scope=col>Date</th><th scope=col>CPI-Core</th><th scope=col>CPI-Median</th><th scope=col>CPI-Trim</th></tr>\n",
       "\t<tr><th scope=col>&lt;chr&gt;</th><th scope=col>&lt;dbl&gt;</th><th scope=col>&lt;dbl&gt;</th><th scope=col>&lt;dbl&gt;</th></tr>\n",
       "</thead>\n",
       "<tbody>\n",
       "\t<tr><td>Q1 2000</td><td>1.666667</td><td>1.366667</td><td>1.566667</td></tr>\n",
       "\t<tr><td>Q2 2000</td><td>1.566667</td><td>1.500000</td><td>1.633333</td></tr>\n",
       "\t<tr><td>Q3 2000</td><td>1.833333</td><td>1.633333</td><td>1.833333</td></tr>\n",
       "\t<tr><td>Q4 2000</td><td>1.966667</td><td>1.800000</td><td>2.000000</td></tr>\n",
       "\t<tr><td>Q1 2001</td><td>2.300000</td><td>2.100000</td><td>2.200000</td></tr>\n",
       "\t<tr><td>Q2 2001</td><td>2.500000</td><td>2.200000</td><td>2.400000</td></tr>\n",
       "</tbody>\n",
       "</table>\n"
      ],
      "text/latex": [
       "A tibble: 6 × 4\n",
       "\\begin{tabular}{llll}\n",
       " Date & CPI-Core & CPI-Median & CPI-Trim\\\\\n",
       " <chr> & <dbl> & <dbl> & <dbl>\\\\\n",
       "\\hline\n",
       "\t Q1 2000 & 1.666667 & 1.366667 & 1.566667\\\\\n",
       "\t Q2 2000 & 1.566667 & 1.500000 & 1.633333\\\\\n",
       "\t Q3 2000 & 1.833333 & 1.633333 & 1.833333\\\\\n",
       "\t Q4 2000 & 1.966667 & 1.800000 & 2.000000\\\\\n",
       "\t Q1 2001 & 2.300000 & 2.100000 & 2.200000\\\\\n",
       "\t Q2 2001 & 2.500000 & 2.200000 & 2.400000\\\\\n",
       "\\end{tabular}\n"
      ],
      "text/markdown": [
       "\n",
       "A tibble: 6 × 4\n",
       "\n",
       "| Date &lt;chr&gt; | CPI-Core &lt;dbl&gt; | CPI-Median &lt;dbl&gt; | CPI-Trim &lt;dbl&gt; |\n",
       "|---|---|---|---|\n",
       "| Q1 2000 | 1.666667 | 1.366667 | 1.566667 |\n",
       "| Q2 2000 | 1.566667 | 1.500000 | 1.633333 |\n",
       "| Q3 2000 | 1.833333 | 1.633333 | 1.833333 |\n",
       "| Q4 2000 | 1.966667 | 1.800000 | 2.000000 |\n",
       "| Q1 2001 | 2.300000 | 2.100000 | 2.200000 |\n",
       "| Q2 2001 | 2.500000 | 2.200000 | 2.400000 |\n",
       "\n"
      ],
      "text/plain": [
       "  Date    CPI-Core CPI-Median CPI-Trim\n",
       "1 Q1 2000 1.666667 1.366667   1.566667\n",
       "2 Q2 2000 1.566667 1.500000   1.633333\n",
       "3 Q3 2000 1.833333 1.633333   1.833333\n",
       "4 Q4 2000 1.966667 1.800000   2.000000\n",
       "5 Q1 2001 2.300000 2.100000   2.200000\n",
       "6 Q2 2001 2.500000 2.200000   2.400000"
      ]
     },
     "metadata": {},
     "output_type": "display_data"
    }
   ],
   "source": [
    "sean_data_cleaned <- sean_data |>\n",
    "  slice(41:n()) |> ##filter the data to only keep values from 2000 Q1 onwards\n",
    "  select(Date, `CPI-Core`, `CPI-Median`, `CPI-Trim`)\n",
    "\n",
    "head(sean_data_cleaned)"
   ]
  },
  {
   "cell_type": "markdown",
   "id": "7fb3165a-026b-454b-a514-58dd793fd625",
   "metadata": {},
   "source": [
    "### 4) Sahaj's Data"
   ]
  },
  {
   "cell_type": "markdown",
   "id": "bb4eeaf4-2c35-4186-a80c-b353782a71c2",
   "metadata": {},
   "source": [
    "**Pre-Cleaned Dataset - All datasets are directly from CANSIM + FRED - Data cleaning code is in Github**"
   ]
  },
  {
   "attachments": {},
   "cell_type": "markdown",
   "id": "8f677cf0-7d57-419d-9fd0-f2370b28ce5c",
   "metadata": {},
   "source": [
    "**We will get:**\n",
    "\n",
    "1) **Supply Slack**: Manufacturers’ total inventory-to-sales ratio - StatCan Table 16-10-0047-01 (vector v803313)\n",
    "\n",
    "2) **Policy Uncertainty Index**: Canadian Economic Policy Uncertainty Index - FRED Dataset series CANEPUINDXM\n",
    "\n",
    "### Combined Businesses-Consumer Expectation Index\n",
    "\n",
    "3) **Consumer Inflation Expectations**: Mid-term inflation expectations (2014 onwards) - BOC https://www.bankofcanada.ca/publications/canadian-survey-of-consumer-expectations/canadian-survey-of-consumer-expectations-survey-data/\n",
    "\n",
    "4) **Business Outlook Survey**: Index made from data about firms's inflation expectation in the next 12 months. Particularly, whether businesses thought inflation was going to be BELOW-1, ONE-to-TWO, TWO-to-THREE, and ABOVE-3 percent - (how were these weighted?) - https://www.bankofcanada.ca/publications/bos/business-outlook-survey-data/\n",
    "\n",
    "5) **Breakeven Inflation Rate (BEIR)**: Market-based breakeven inflation rate – BOC (Excel STATIC_ATABLE_V122544_V122553-BEIR.xlsx - source?)\n",
    "\n",
    "### Labour Market Index\n",
    "\n",
    "6) **R8** - Labour Underutilization Rate: Broad unemployment measure (SA) – StatCan Table 14-10-0077-01 (vector v2440393)\n",
    "\n",
    "7) **Unemployment by Duration**: Share unemployed 1–4 weeks, 27+ weeks, etc. (SA) – StatCan Table 14-10-0342-01 (vectors v1078667526, v1078667742, v1078668066)\n",
    "\n",
    "8) **Average Hours Worked**: Total employees, average actual weekly hours worked (SA) – StatCan Table 14-10-0032-01 (vector v2685138)\n",
    "\n",
    "9) **Average Hourly Wage**: Employees, average hourly wage rate (SA) – StatCan Table 14-10-0063-01 (vector v2132579)\n",
    "\n",
    "10) **Prime-age Participation Rate**: Participation rate, ages 25–54 (SA) – StatCan LFS extract (Excel 1410028701-eng)\n",
    "\n",
    "**These were combined to make:**\n",
    "\n",
    "**Labour Market Index (LMI)**: Composite index built (using PCA) on unemployment, labour underutilization rate, long-term unemployment, job finding, separation, participation, hours worked, and wage growth \n",
    "\n",
    "\n",
    "\n"
   ]
  },
  {
   "cell_type": "code",
   "execution_count": null,
   "id": "72b7584f-8823-4f75-9565-a9ad393ca1fb",
   "metadata": {},
   "outputs": [],
   "source": []
  }
 ],
 "metadata": {
  "kernelspec": {
   "display_name": "R",
   "language": "R",
   "name": "ir"
  },
  "language_info": {
   "codemirror_mode": "r",
   "file_extension": ".r",
   "mimetype": "text/x-r-source",
   "name": "R",
   "pygments_lexer": "r",
   "version": "4.3.3"
  }
 },
 "nbformat": 4,
 "nbformat_minor": 5
}
